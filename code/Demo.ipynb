{
 "cells": [
  {
   "cell_type": "code",
   "execution_count": 12,
   "metadata": {},
   "outputs": [],
   "source": [
    "import numpy as np \n",
    "import pandas as pd\n",
    "import pymap3d as pm\n",
    "import pickle\n",
    "from controller import DisturbanceRejectionController"
   ]
  },
  {
   "cell_type": "code",
   "execution_count": 13,
   "metadata": {},
   "outputs": [],
   "source": [
    "# Preprocess an entire file to be fed into our model\n",
    "def process_file(filename):\n",
    "    data_load_try = []\n",
    "\n",
    "    with open(filename, \"rb\") as file:\n",
    "        try:\n",
    "            while True:\n",
    "                data_load_try.append(pickle.load(file))\n",
    "        except:\n",
    "            pass \n",
    "\n",
    "    df = pd.DataFrame(data_load_try)\n",
    "    next_wps = []\n",
    "    for wp in df['remaining_waypoints']:\n",
    "        next_wps.append(wp[0])\n",
    "\n",
    "    df['next_wps'] = next_wps\n",
    "    df = df.drop('remaining_waypoints', axis=1)\n",
    "    xy_np = pm.ecef2enu(df['ecefx'].astype(float), df['ecefy'].astype(float), df['ecefz'].astype(float), df['lat'].astype(float)[0], df['lon'].astype(float)[0], 0)\n",
    "    xy_np = np.array(xy_np).T\n",
    "    df['x'] = xy_np[:,0]\n",
    "    df['y'] = xy_np[:,1]\n",
    "    df['next_wps'] = df['next_wps'].apply(tuple)\n",
    "    df = df.drop_duplicates()\n",
    "    df = df.reset_index(drop=True)\n",
    "    \n",
    "    wps = np.array(df['next_wps'].tolist())\n",
    "    xwp, ywp, zwp = pm.geodetic2enu(wps[:,0], wps[:,1], wps[:,2], df['lat'].astype(float)[0], df['lon'].astype(float)[0], 0)\n",
    "    df['xwp'] = xwp \n",
    "    df['ywp'] = ywp \n",
    "    df['zwp'] = wps[:,2] + 125 # seems off by a bit, temporary correction\n",
    "\n",
    "    vxy_np = pm.ecef2enuv(df['vEcefx'].astype(float), df['vEcefy'].astype(float), df['vEcefz'].astype(float), df['lat'].astype(float)[0], df['lon'].astype(float)[0], deg=True)\n",
    "    vxy_np = np.array(vxy_np).T\n",
    "    df['vx'] = vxy_np[:,0]\n",
    "    df['vy'] = vxy_np[:,1]\n",
    "    df['vz'] = vxy_np[:,2]\n",
    "\n",
    "    return df"
   ]
  },
  {
   "cell_type": "code",
   "execution_count": 14,
   "metadata": {},
   "outputs": [],
   "source": [
    "filepath = '../../wind-estimation-control/src/data/luis_wind/e_shape_no_wind.pkl'\n",
    "\n",
    "data = process_file(filepath)"
   ]
  },
  {
   "cell_type": "code",
   "execution_count": 11,
   "metadata": {},
   "outputs": [
    {
     "ename": "NameError",
     "evalue": "name 'pickle' is not defined",
     "output_type": "error",
     "traceback": [
      "\u001b[0;31m---------------------------------------------------------------------------\u001b[0m",
      "\u001b[0;31mNameError\u001b[0m                                 Traceback (most recent call last)",
      "Cell \u001b[0;32mIn[11], line 1\u001b[0m\n\u001b[0;32m----> 1\u001b[0m \u001b[43mpickle\u001b[49m\u001b[38;5;241m.\u001b[39mload(filepath)\n",
      "\u001b[0;31mNameError\u001b[0m: name 'pickle' is not defined"
     ]
    }
   ],
   "source": [
    "\n",
    "pickle.load(filepath)"
   ]
  }
 ],
 "metadata": {
  "kernelspec": {
   "display_name": "wind-estimation",
   "language": "python",
   "name": "python3"
  },
  "language_info": {
   "codemirror_mode": {
    "name": "ipython",
    "version": 3
   },
   "file_extension": ".py",
   "mimetype": "text/x-python",
   "name": "python",
   "nbconvert_exporter": "python",
   "pygments_lexer": "ipython3",
   "version": "3.9.18"
  }
 },
 "nbformat": 4,
 "nbformat_minor": 2
}
